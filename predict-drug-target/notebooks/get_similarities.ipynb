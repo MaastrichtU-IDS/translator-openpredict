{
 "cells": [
  {
   "cell_type": "markdown",
   "metadata": {},
   "source": [
    "Get similarity from vectordb for 2 entities"
   ]
  },
  {
   "cell_type": "code",
   "execution_count": 1,
   "metadata": {},
   "outputs": [
    {
     "name": "stderr",
     "output_type": "stream",
     "text": [
      "2023-11-28 14:46:13,145 INFO: [vectordb:__init__] Vector DB initialized: 3195 drug | 1474 target\n",
      "2023-11-28 14:46:13,383 INFO: [vectordb:__init__] Vector DB initialized: 3195 drug | 1474 target\n",
      "2023-11-28 14:46:13,602 INFO: [vectordb:__init__] Vector DB initialized: 3195 drug | 1474 target\n"
     ]
    }
   ],
   "source": [
    "from predict_drug_target.vectordb import init_vectordb\n",
    "\n",
    "vectordb = init_vectordb(recreate=False)"
   ]
  },
  {
   "cell_type": "code",
   "execution_count": 2,
   "metadata": {},
   "outputs": [
    {
     "name": "stdout",
     "output_type": "stream",
     "text": [
      "PUBCHEM.COMPOUND:5329102: 39.392616 (1)\n",
      "CHEMBL.COMPOUND:CHEMBL964: 31.223703 (949)\n",
      "PUBCHEM.COMPOUND:4039: 26.235077 (2)\n",
      "CHEMBL.COMPOUND:CHEMBL1201573: 25.389591 (661)\n",
      "CHEMBL.COMPOUND:CHEMBL2108184: 24.457413 (268)\n",
      "CHEMBL.COMPOUND:CHEMBL399510: 23.843166 (3156)\n",
      "CHEMBL.COMPOUND:CHEMBL1201341: 23.752804 (1373)\n",
      "CHEMBL.COMPOUND:CHEMBL86: 23.65115 (1671)\n",
      "CHEMBL.COMPOUND:CHEMBL27810: 23.324188 (2266)\n",
      "CHEMBL.COMPOUND:CHEMBL1200367: 22.69475 (2143)\n"
     ]
    }
   ],
   "source": [
    "# drug_id = \"PUBCHEM.COMPOUND:5329102\"\n",
    "drug_id = \"CHEMBL.COMPOUND:CHEMBL1201341\"\n",
    "\n",
    "# Get the vector for the given drug ID\n",
    "drugs_matching = vectordb.get(\"drug\", drug_id)\n",
    "\n",
    "# Find vectors that are similar to the vector of the given drug ID\n",
    "search_res = vectordb.search(\"drug\", drugs_matching[0].vector)\n",
    "\n",
    "for res in search_res:\n",
    "    print(f\"{res.payload['id']}: {res.score} ({res.id})\")"
   ]
  }
 ],
 "metadata": {
  "kernelspec": {
   "display_name": "Python 3",
   "language": "python",
   "name": "python3"
  },
  "language_info": {
   "codemirror_mode": {
    "name": "ipython",
    "version": 3
   },
   "file_extension": ".py",
   "mimetype": "text/x-python",
   "name": "python",
   "nbconvert_exporter": "python",
   "pygments_lexer": "ipython3",
   "version": "3.10.12"
  }
 },
 "nbformat": 4,
 "nbformat_minor": 2
}
