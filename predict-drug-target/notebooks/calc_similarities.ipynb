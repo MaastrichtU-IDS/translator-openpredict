{
 "cells": [
  {
   "cell_type": "code",
   "execution_count": 1,
   "id": "0bb014c5-d01f-426e-bc34-6ccd0dd296ce",
   "metadata": {
    "tags": []
   },
   "outputs": [
    {
     "name": "stdout",
     "output_type": "stream",
     "text": [
      "Looking in indexes: https://pypi.org/simple, https://pypi.ngc.nvidia.com\n",
      "Collecting rdkit\n",
      "  Obtaining dependency information for rdkit from https://files.pythonhosted.org/packages/bb/ee/e74ab769bb62eb8b3c79556c2af01697800f65c6e137af2f6c5ce58753bd/rdkit-2023.3.3-cp310-cp310-manylinux_2_17_x86_64.manylinux2014_x86_64.whl.metadata\n",
      "  Downloading rdkit-2023.3.3-cp310-cp310-manylinux_2_17_x86_64.manylinux2014_x86_64.whl.metadata (3.8 kB)\n",
      "Requirement already satisfied: numpy in /usr/local/lib/python3.10/dist-packages (from rdkit) (1.22.2)\n",
      "Requirement already satisfied: Pillow in /usr/local/lib/python3.10/dist-packages (from rdkit) (9.2.0)\n",
      "Downloading rdkit-2023.3.3-cp310-cp310-manylinux_2_17_x86_64.manylinux2014_x86_64.whl (29.7 MB)\n",
      "\u001b[2K   \u001b[90m━━━━━━━━━━━━━━━━━━━━━━━━━━━━━━━━━━━━━━━━\u001b[0m \u001b[32m29.7/29.7 MB\u001b[0m \u001b[31m117.0 MB/s\u001b[0m eta \u001b[36m0:00:00\u001b[0ma \u001b[36m0:00:01\u001b[0m\n",
      "\u001b[?25hInstalling collected packages: rdkit\n",
      "Successfully installed rdkit-2023.3.3\n",
      "\u001b[33mWARNING: Running pip as the 'root' user can result in broken permissions and conflicting behaviour with the system package manager. It is recommended to use a virtual environment instead: https://pip.pypa.io/warnings/venv\u001b[0m\u001b[33m\n",
      "\u001b[0m\n",
      "\u001b[1m[\u001b[0m\u001b[34;49mnotice\u001b[0m\u001b[1;39;49m]\u001b[0m\u001b[39;49m A new release of pip is available: \u001b[0m\u001b[31;49m23.2.1\u001b[0m\u001b[39;49m -> \u001b[0m\u001b[32;49m23.3\u001b[0m\n",
      "\u001b[1m[\u001b[0m\u001b[34;49mnotice\u001b[0m\u001b[1;39;49m]\u001b[0m\u001b[39;49m To update, run: \u001b[0m\u001b[32;49mpython -m pip install --upgrade pip\u001b[0m\n",
      "Note: you may need to restart the kernel to use updated packages.\n"
     ]
    }
   ],
   "source": [
    "pip install rdkit"
   ]
  },
  {
   "cell_type": "code",
   "execution_count": 2,
   "id": "a4168c57-57fe-4cb9-b2a5-8b3257e6bff2",
   "metadata": {
    "tags": []
   },
   "outputs": [],
   "source": [
    "from rdkit import Chem\n",
    "from rdkit.Chem import AllChem\n",
    "from rdkit.Chem import DataStructs\n",
    "import pandas as pd"
   ]
  },
  {
   "cell_type": "code",
   "execution_count": 4,
   "id": "e32099e0-7618-43f3-b1f6-d42b90b5ac1a",
   "metadata": {
    "tags": []
   },
   "outputs": [],
   "source": [
    "data = pd.read_csv('../data/opentargets/drugs_smiles.csv')"
   ]
  },
  {
   "cell_type": "code",
   "execution_count": 5,
   "id": "043f627a-3a5a-4562-b208-af0db3d566f1",
   "metadata": {
    "tags": []
   },
   "outputs": [],
   "source": [
    "mols = [Chem.MolFromSmiles(smiles) for smiles in data['smiles']]\n",
    "fps = [AllChem.GetMorganFingerprintAsBitVect(mol, 2, nBits=2048) for mol in mols]"
   ]
  },
  {
   "cell_type": "code",
   "execution_count": 6,
   "id": "4016912c-b944-41a8-b9b1-34d05963bb42",
   "metadata": {
    "tags": []
   },
   "outputs": [],
   "source": [
    "similarities = []\n",
    "for i in range(len(fps)):\n",
    "    for j in range(i + 1, len(fps)):\n",
    "        similarity = DataStructs.TanimotoSimilarity(fps[i], fps[j])\n",
    "        similarities.append({\n",
    "            'Drug1': data['drug'].iloc[i],\n",
    "            'Drug2': data['drug'].iloc[j],\n",
    "            'Similarity': similarity\n",
    "        })\n",
    "similarity_df = pd.DataFrame(similarities)"
   ]
  },
  {
   "cell_type": "code",
   "execution_count": 7,
   "id": "3bed94a7-15a7-4979-874b-ab1bdeaf5012",
   "metadata": {
    "tags": []
   },
   "outputs": [],
   "source": [
    "similarity_df.to_csv('../data/opentargets/drug_similarity.csv', index=False)"
   ]
  },
  {
   "cell_type": "markdown",
   "id": "373481cc-9110-471c-8ec1-22b918936703",
   "metadata": {},
   "source": [
    "protein-protein similarity"
   ]
  },
  {
   "cell_type": "code",
   "execution_count": 1,
   "id": "43fc0530-a966-4020-850a-c46b5a3b694f",
   "metadata": {
    "tags": []
   },
   "outputs": [
    {
     "name": "stdout",
     "output_type": "stream",
     "text": [
      "Looking in indexes: https://pypi.org/simple, https://pypi.ngc.nvidia.com\n",
      "Requirement already satisfied: networkx in /usr/local/lib/python3.10/dist-packages (2.6.3)\n",
      "\u001b[33mWARNING: Running pip as the 'root' user can result in broken permissions and conflicting behaviour with the system package manager. It is recommended to use a virtual environment instead: https://pip.pypa.io/warnings/venv\u001b[0m\u001b[33m\n",
      "\u001b[0m\n",
      "\u001b[1m[\u001b[0m\u001b[34;49mnotice\u001b[0m\u001b[1;39;49m]\u001b[0m\u001b[39;49m A new release of pip is available: \u001b[0m\u001b[31;49m23.2.1\u001b[0m\u001b[39;49m -> \u001b[0m\u001b[32;49m23.3.1\u001b[0m\n",
      "\u001b[1m[\u001b[0m\u001b[34;49mnotice\u001b[0m\u001b[1;39;49m]\u001b[0m\u001b[39;49m To update, run: \u001b[0m\u001b[32;49mpython -m pip install --upgrade pip\u001b[0m\n",
      "Note: you may need to restart the kernel to use updated packages.\n"
     ]
    }
   ],
   "source": [
    "pip install networkx"
   ]
  },
  {
   "cell_type": "code",
   "execution_count": 2,
   "id": "83d92542-a4f2-43c3-b4df-a2f42760d61a",
   "metadata": {
    "tags": []
   },
   "outputs": [],
   "source": [
    "import pandas as pd\n",
    "import networkx as nx\n",
    "from itertools import combinations\n",
    "\n",
    "# Load your dataset into a DataFrame (replace 'your_dataset.csv' with the actual file path)\n",
    "data = pd.read_csv('../data/opentargets/targets_sequences.csv')\n",
    "\n",
    "G = nx.Graph()\n",
    "\n",
    "# Create pairwise combinations of protein IDs\n",
    "protein_ids = data['target'].tolist()\n",
    "for protein_pair in combinations(protein_ids, 2):\n",
    "    G.add_edge(protein_pair[0], protein_pair[1])\n",
    "\n",
    "# Initialize an empty list to store protein pairs\n",
    "protein_pairs = []\n",
    "\n",
    "# Use combinations to generate unique pairs\n",
    "for protein_pair in combinations(protein_ids, 2):\n",
    "    protein_pairs.append(protein_pair)"
   ]
  },
  {
   "cell_type": "code",
   "execution_count": null,
   "id": "1fb2e968-02b7-49ff-881f-95e32db88598",
   "metadata": {
    "tags": []
   },
   "outputs": [],
   "source": [
    "# Create a graph from protein pairs\n",
    "G = nx.Graph()\n",
    "G.add_edges_from(protein_pairs)\n",
    "\n",
    "similarities = []\n",
    "\n",
    "# Calculate Jaccard similarity for each pair\n",
    "for i in range(len(protein_pairs)):\n",
    "    for j in range(i + 1, len(protein_pairs)):\n",
    "        protein1 = protein_pairs[i][0]\n",
    "        protein2 = protein_pairs[j][1]\n",
    "        \n",
    "        # Calculate Jaccard similarity\n",
    "        common_neighbors = len(list(nx.common_neighbors(G, protein1, protein2)))\n",
    "        union_neighbors = len(set(G[protein1]) | set(G[protein2]))\n",
    "        jaccard_similarity = common_neighbors / union_neighbors\n",
    "        \n",
    "        # Append to the list of similarities\n",
    "        similarities.append({\n",
    "            'Protein1': protein1,\n",
    "            'Protein2': protein2,\n",
    "            'JaccardSimilarity': jaccard_similarity\n",
    "        })\n",
    "\n",
    "# Create a DataFrame from the list of similarities\n",
    "similarity_df = pd.DataFrame(similarities)"
   ]
  },
  {
   "cell_type": "code",
   "execution_count": 4,
   "id": "b426e639-6af5-4701-b369-3c5e43daa4de",
   "metadata": {
    "tags": []
   },
   "outputs": [],
   "source": [
    "similarity_df.to_csv('../data/opentargets/protein_similarity.csv', index=False)"
   ]
  }
 ],
 "metadata": {
  "kernelspec": {
   "display_name": "Python 3 (ipykernel)",
   "language": "python",
   "name": "python3"
  },
  "language_info": {
   "codemirror_mode": {
    "name": "ipython",
    "version": 3
   },
   "file_extension": ".py",
   "mimetype": "text/x-python",
   "name": "python",
   "nbconvert_exporter": "python",
   "pygments_lexer": "ipython3",
   "version": "3.10.12"
  }
 },
 "nbformat": 4,
 "nbformat_minor": 5
}
