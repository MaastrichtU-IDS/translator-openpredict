{
 "cells": [
  {
   "cell_type": "code",
   "execution_count": 2,
   "metadata": {},
   "outputs": [
    {
     "name": "stdout",
     "output_type": "stream",
     "text": [
      "Check the run results at https://arax.ncats.io/?source=ARS&id=a785b87b-22b7-4dd5-acef-9fc31d914f00\n"
     ]
    }
   ],
   "source": [
    "import requests\n",
    "import json\n",
    "\n",
    "query = {\n",
    "    \"message\": {\n",
    "        \"query_graph\": {\n",
    "            \"nodes\": {\n",
    "                \"n0\": {\n",
    "                    \"categories\": [\"biolink:Drug\"]\n",
    "                },\n",
    "                \"n1\": {\n",
    "                    # \"ids\": [\"CHEBI:45783\"],\n",
    "                    \"categories\": [ \"biolink:Protein\" ]\n",
    "                }\n",
    "            },\n",
    "            \"edges\": {\n",
    "                \"e01\": {\n",
    "                    \"subject\": \"n0\",\n",
    "                    \"object\": \"n1\",\n",
    "                    \"predicates\": [\"biolink:related_to\"]\n",
    "                }\n",
    "            }\n",
    "        }\n",
    "    }\n",
    "}\n",
    "\n",
    "data = json.dumps(query)\n",
    "headers = {'Content-type': 'application/json'}\n",
    "ars_resp = requests.post(\n",
    "    'https://ars-prod.transltr.io/ars/api/submit',\n",
    "    data=data, headers=headers,\n",
    ").json()\n",
    "print(f\"Check the run results at https://arax.ncats.io/?source=ARS&id={ars_resp['pk']}\")"
   ]
  }
 ],
 "metadata": {
  "kernelspec": {
   "display_name": "Python 3",
   "language": "python",
   "name": "python3"
  },
  "language_info": {
   "codemirror_mode": {
    "name": "ipython",
    "version": 3
   },
   "file_extension": ".py",
   "mimetype": "text/x-python",
   "name": "python",
   "nbconvert_exporter": "python",
   "pygments_lexer": "ipython3",
   "version": "3.10.12"
  }
 },
 "nbformat": 4,
 "nbformat_minor": 2
}
