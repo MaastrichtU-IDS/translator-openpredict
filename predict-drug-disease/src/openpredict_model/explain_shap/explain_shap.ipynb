{
 "cells": [
  {
   "cell_type": "code",
   "execution_count": 3,
   "metadata": {},
   "outputs": [
    {
     "name": "stdout",
     "output_type": "stream",
     "text": [
      "zsh:1: /usr/local/bin/pip: bad interpreter: /usr/local/opt/python/bin/python3.7: no such file or directory\n",
      "Requirement already satisfied: networkx in /Users/remzicelebi/opt/anaconda3/lib/python3.8/site-packages (2.3)\n",
      "Requirement already satisfied: decorator>=4.3.0 in /Users/remzicelebi/opt/anaconda3/lib/python3.8/site-packages (from networkx) (4.4.2)\n"
     ]
    }
   ],
   "source": [
    "# !pip install networkx\n",
    "# !pip install matplotlib==2.2.3."
   ]
  },
  {
   "cell_type": "code",
   "execution_count": 2,
   "metadata": {},
   "outputs": [],
   "source": [
    "import pandas as pd\n",
    "import networkx as nx\n",
    "\n",
    "data_folder = \"../../../data\""
   ]
  },
  {
   "cell_type": "code",
   "execution_count": 4,
   "metadata": {},
   "outputs": [
    {
     "data": {
      "text/plain": [
       "'2.3'"
      ]
     },
     "execution_count": 4,
     "metadata": {},
     "output_type": "execute_result"
    }
   ],
   "source": [
    "nx.__version__"
   ]
  },
  {
   "cell_type": "code",
   "execution_count": 5,
   "metadata": {},
   "outputs": [],
   "source": [
    "df_op = pd.read_csv(f'{data_folder}/resources/openpredict-omim-drug.csv')"
   ]
  },
  {
   "cell_type": "code",
   "execution_count": 6,
   "metadata": {},
   "outputs": [],
   "source": [
    "df_op = df_op.rename(columns={'omimid': 'disease_id', 'drugid': 'drug_id'})"
   ]
  },
  {
   "cell_type": "code",
   "execution_count": 7,
   "metadata": {},
   "outputs": [],
   "source": [
    "df_op.disease_id = df_op.disease_id.astype(str)\n"
   ]
  },
  {
   "cell_type": "code",
   "execution_count": 8,
   "metadata": {},
   "outputs": [
    {
     "data": {
      "text/plain": [
       "1966"
      ]
     },
     "execution_count": 8,
     "metadata": {},
     "output_type": "execute_result"
    }
   ],
   "source": [
    "indications_dict = set()\n",
    "for i, row in df_op.iterrows():\n",
    "    #row['DB_ID'], row['DO_ID']\n",
    "    pair = (str(row['drug_id']), str(row['disease_id']))\n",
    "    indications_dict.add(pair)\n",
    "len(indications_dict)\n"
   ]
  },
  {
   "cell_type": "code",
   "execution_count": 8,
   "metadata": {},
   "outputs": [],
   "source": [
    "\n",
    "#!pip install gensim"
   ]
  },
  {
   "cell_type": "code",
   "execution_count": 9,
   "metadata": {},
   "outputs": [],
   "source": [
    "from gensim.models import KeyedVectors\n"
   ]
  },
  {
   "cell_type": "code",
   "execution_count": 10,
   "metadata": {},
   "outputs": [],
   "source": [
    "drug_fp_vectors = KeyedVectors.load_word2vec_format(\n",
    "    f'{data_folder}/embedding/drugs_fp_embed.txt', binary=False)\n",
    "disease_hp_vectors = KeyedVectors.load_word2vec_format(\n",
    "    f'{data_folder}/embedding/disease_hp_embed.txt', binary=False)\n"
   ]
  },
  {
   "cell_type": "code",
   "execution_count": 23,
   "metadata": {},
   "outputs": [],
   "source": [
    "# openpredict:most_similar('DB00570', 10)\n",
    "# path generation\n",
    "def generate_paths_for_apair(drug, disease, drug_emb_vectors, disease_emb_vectors):\n",
    "    g = nx.Graph()\n",
    "    #g.add_edge(DRUGB[dr], OMIM[ds], weight=1)\n",
    "    similarDrugs = drug_emb_vectors.most_similar(drug, topn=100)\n",
    "    #print (similarDrugs)\n",
    "    g.add_node(\"DrugBank:\"+drug, id=\"DrugBank:\"+drug,\n",
    "               name=\"fake\", categories=[\"biolink:Drug\"])\n",
    "    for dr, sim in similarDrugs:\n",
    "        #print(dr, ' ', drug, 1-sim)\n",
    "        #g.add_edge(dr, drug, weight=1-sim)\n",
    "\n",
    "        g.add_node(\"DrugBank:\"+dr, id=\"DrugBank:\"+dr,\n",
    "                   name=\"fake\", categories=[\"biolink:Drug\"])\n",
    "        g.add_edge(\"DrugBank:\"+dr, \"DrugBank:\"+drug, id=\"DrugBank:\"+dr+\"_DrugBank: \"+drug,\n",
    "                   predicate=\"biolink:similar_to\", subject=\"DrugBank:\"+dr, object=\"DrugBank:\"+drug,  weight=1-sim, attributes={\"description\": \"score\",\n",
    "                                                               \"attribute_type_id\": \"EDAM:data_1772\",\n",
    "                                                               \"value\": 1+(1-sim)\n",
    "                                                               })\n",
    "    g.add_node(\"OMIM:\"+disease, id=\"OMIM:\"+disease,\n",
    "               name=\"fake\", categories=[\"biolink:Disease\"])\n",
    "               \n",
    "    similarDiseases = disease_emb_vectors.most_similar(disease, topn=100)\n",
    "    for ds, sim in similarDiseases:\n",
    "        #print(ds, ' ', disease)\n",
    "        #g.add_edge(ds, disease, weight=1-sim)\n",
    "        g.add_node(\"OMIM:\"+ds, id=\"OMIM:\"+ds,\n",
    "                   name=\"fake\", categories=[\"biolink:Disease\"])\n",
    "        g.add_edge(\"OMIM:\"+ds, \"OMIM:\"+disease,\n",
    "                   id=\"OMIM:\" + ds+\"_OMIM:\"+disease, predicate=\"biolink:similar_to\", subject=\"OMIM:\"+ds, object=\"OMIM:\"+disease, weight=1-sim, attributes={\"description\": \"score\",\n",
    "                                                                                                 \"attribute_type_id\": \"EDAM:data_1772\",\n",
    "                                                                                                 \"value\": 1+(1-sim)\n",
    "                                                                                                 })\n",
    "                                                                                                 \n",
    "\n",
    "\n",
    "    for (dr, ds) in indications_dict:\n",
    "        if \"DrugBank:\"+dr in g.nodes() and \"OMIM:\"+ds in g.nodes():\n",
    "            #print(dr, ds, 1)\n",
    "            #g.add_edge(dr, ds, weight=1)\n",
    "            g.add_edge(\"DrugBank:\"+dr, \"OMIM:\"+ds, id=\"DrugBank:\" +\n",
    "                       dr+\"_OMIM:\"+ds, predicate=\"biolink:treats\", subject=\"DrugBank:\"+dr, object=\"OMIM:\"+ds,  weight=1.0, attributes={\"description\": \"score\",\n",
    "                                                                               \"attribute_type_id\": \"EDAM:data_1772\",\n",
    "                                                                               \"value\": \"1.0\"\n",
    "                                                                               })\n",
    "    return g\n"
   ]
  },
  {
   "cell_type": "code",
   "execution_count": 24,
   "metadata": {},
   "outputs": [],
   "source": [
    "g1 = generate_paths_for_apair(\n",
    "    'DB00915', '104300', drug_fp_vectors, disease_hp_vectors)\n"
   ]
  },
  {
   "cell_type": "code",
   "execution_count": 17,
   "metadata": {},
   "outputs": [
    {
     "name": "stdout",
     "output_type": "stream",
     "text": [
      "numbee of nodes 202\n",
      "numbee of nodes 333\n"
     ]
    }
   ],
   "source": [
    "print(\"numbee of nodes\",g1.number_of_nodes())\n",
    "print(\"numbee of nodes\", g1.number_of_edges())\n"
   ]
  },
  {
   "cell_type": "code",
   "execution_count": 68,
   "metadata": {},
   "outputs": [
    {
     "data": {
      "text/plain": [
       "{'id': 'OMIM:104300', 'name': 'fake', 'categories': ['biolink:Disease']}"
      ]
     },
     "execution_count": 68,
     "metadata": {},
     "output_type": "execute_result"
    }
   ],
   "source": [
    "g1.node['OMIM:104300']\n"
   ]
  },
  {
   "cell_type": "code",
   "execution_count": 69,
   "metadata": {},
   "outputs": [],
   "source": [
    "length, path = nx.single_source_dijkstra(g1, 'DrugBank:DB00915', 'OMIM:104300')\n"
   ]
  },
  {
   "cell_type": "code",
   "execution_count": 20,
   "metadata": {},
   "outputs": [],
   "source": [
    "#length, path = nx.single_source_dijkstra(g1, 'DrugBank:DB00570', 'OMIM:236000')\n",
    "path_weight = {}\n",
    "for path in nx.all_simple_paths(g1, 'DrugBank:DB00915', 'OMIM:104300', cutoff=4):\n",
    "    #print (path)\n",
    "    #break\n",
    "    dpath = 0\n",
    "    for i in range(len(path)-1):\n",
    "        #print(g1[path[i]][path[i+1]])\n",
    "        dpath += g1[path[i]][path[i+1]]['weight']\n",
    "    path_weight[str(path)] = dpath\n"
   ]
  },
  {
   "cell_type": "code",
   "execution_count": 21,
   "metadata": {},
   "outputs": [],
   "source": [
    "path_weight_dict = sorted(path_weight.items(), key=lambda x: x[1], )"
   ]
  },
  {
   "cell_type": "code",
   "execution_count": 22,
   "metadata": {},
   "outputs": [
    {
     "data": {
      "text/plain": [
       "[(\"['DrugBank:DB00915', 'DrugBank:DB00843', 'OMIM:104300']\",\n",
       "  1.1941457986831665),\n",
       " (\"['DrugBank:DB00915', 'DrugBank:DB00909', 'OMIM:608105', 'OMIM:104300']\",\n",
       "  1.1944136023521423),\n",
       " (\"['DrugBank:DB00915', 'DrugBank:DB00989', 'OMIM:104300']\",\n",
       "  1.2105293273925781),\n",
       " (\"['DrugBank:DB00915', 'DrugBank:DB01043', 'OMIM:104300']\", 1.21715247631073),\n",
       " (\"['DrugBank:DB00915', 'DrugBank:DB00996', 'OMIM:608105', 'OMIM:104300']\",\n",
       "  1.2240398526191711),\n",
       " (\"['DrugBank:DB00915', 'DrugBank:DB00907', 'OMIM:608088', 'OMIM:104300']\",\n",
       "  1.2435468435287476),\n",
       " (\"['DrugBank:DB00915', 'DrugBank:DB00927', 'OMIM:190310', 'OMIM:104300']\",\n",
       "  1.2508054971694946),\n",
       " (\"['DrugBank:DB00915', 'DrugBank:DB00868', 'OMIM:608088', 'OMIM:104300']\",\n",
       "  1.2542904615402222),\n",
       " (\"['DrugBank:DB00915', 'DrugBank:DB00794', 'OMIM:608105', 'OMIM:104300']\",\n",
       "  1.2545140385627747),\n",
       " (\"['DrugBank:DB00915', 'DrugBank:DB00863', 'OMIM:190310', 'OMIM:104300']\",\n",
       "  1.262675166130066)]"
      ]
     },
     "execution_count": 22,
     "metadata": {},
     "output_type": "execute_result"
    }
   ],
   "source": [
    "path_weight_dict[:10]\n"
   ]
  },
  {
   "cell_type": "code",
   "execution_count": 73,
   "metadata": {},
   "outputs": [
    {
     "name": "stdout",
     "output_type": "stream",
     "text": [
      "['DrugBank:DB00915', 'DrugBank:DB00843', 'OMIM:104300'] 1.1941457986831665\n",
      "['DrugBank:DB00915', 'DrugBank:DB00909', 'OMIM:608105', 'OMIM:104300'] 1.1944135427474976\n",
      "['DrugBank:DB00915', 'DrugBank:DB00989', 'OMIM:104300'] 1.2105293273925781\n",
      "['DrugBank:DB00915', 'DrugBank:DB01043', 'OMIM:104300'] 1.2171525359153748\n",
      "['DrugBank:DB00915', 'DrugBank:DB00996', 'OMIM:608105', 'OMIM:104300'] 1.2240397334098816\n"
     ]
    }
   ],
   "source": [
    "import ast\n",
    "G = nx.Graph()\n",
    "for p, s in path_weight_dict[:5]:\n",
    "    path = ast.literal_eval(p)\n",
    "    print(path, s)\n",
    "    for i in range(len(path)-1):\n",
    "        #print(path[i])\n",
    "        s_node_name = path[i]\n",
    "        t_node_name = path[i+1]\n",
    "        edge_data = g1[s_node_name][t_node_name]\n",
    "        #print(node_name)\n",
    "        G.add_node(s_node_name, g1.node[s_node_name])\n",
    "        G.add_node(t_node_name, g1.node[t_node_name])\n",
    "        G.add_edge(s_node_name, t_node_name, edge_data)\n"
   ]
  },
  {
   "cell_type": "code",
   "execution_count": null,
   "metadata": {},
   "outputs": [],
   "source": [
    "import ast\n",
    "\n",
    "\n",
    "def generate_explanation(drug, disease, drug_fp_vectors, disease_hp_vectors, topK):\n",
    "    #-> Path generation, add similar_to relation between query drug and disease\n",
    "    #-> add known treats relations if any drug-disease pair in the graph has a treats relation\n",
    "    g1 = generate_paths_for_apair(\n",
    "        drug, disease, drug_fp_vectors, disease_hp_vectors)\n",
    "\n",
    "    # Iterate over all simple paths\n",
    "    # assign a weight to each path by summing their weights (for similar_to weight is 1-similarity, for treats, weight is 1)\n",
    "    path_weight = {}\n",
    "    for path in nx.all_simple_paths(g1, drug, disease , cutoff=4):\n",
    "        dpath = 0\n",
    "        for i in range(len(path)-1):\n",
    "            #print(g1[path[i]][path[i+1]])\n",
    "            dpath += g1[path[i]][path[i+1]]['weight']\n",
    "        path_weight[str(path)] = dpath\n",
    "    # rank the paths and take only top-K paths\n",
    "    path_weight_dict = sorted(path_weight.items(), key=lambda x: x[1], )\n",
    "    # create a final graph by merging the top-K paths\n",
    "    G = nx.Graph()\n",
    "    for p, s in path_weight_dict[:topK]:\n",
    "        path = ast.literal_eval(p)\n",
    "        print(path, s)\n",
    "        for i in range(len(path)-1):\n",
    "            #print(path[i])\n",
    "            s_node_name = path[i]\n",
    "            t_node_name = path[i+1]\n",
    "            edge_data = g1[s_node_name][t_node_name]\n",
    "            #print(node_name)\n",
    "            G.add_node(s_node_name, g1.node[s_node_name])\n",
    "            G.add_node(t_node_name, g1.node[t_node_name])\n",
    "            G.add_edge(s_node_name, t_node_name, edge_data)\n",
    "\n",
    "    return G\n"
   ]
  },
  {
   "cell_type": "code",
   "execution_count": 37,
   "metadata": {},
   "outputs": [
    {
     "data": {
      "text/plain": [
       "11"
      ]
     },
     "execution_count": 37,
     "metadata": {},
     "output_type": "execute_result"
    }
   ],
   "source": [
    "G.number_of_edges()"
   ]
  },
  {
   "cell_type": "code",
   "execution_count": 38,
   "metadata": {},
   "outputs": [
    {
     "data": {
      "text/plain": [
       "8"
      ]
     },
     "execution_count": 38,
     "metadata": {},
     "output_type": "execute_result"
    }
   ],
   "source": [
    "G.number_of_nodes()\n"
   ]
  },
  {
   "cell_type": "code",
   "execution_count": 40,
   "metadata": {},
   "outputs": [],
   "source": [
    "#G['DrugBank:DB00570']['OMIM:236000']\n"
   ]
  },
  {
   "cell_type": "code",
   "execution_count": 41,
   "metadata": {},
   "outputs": [],
   "source": [
    "graph_json ={}"
   ]
  },
  {
   "cell_type": "code",
   "execution_count": 42,
   "metadata": {},
   "outputs": [
    {
     "name": "stdout",
     "output_type": "stream",
     "text": [
      "{'id': 'DrugBank:DB00915', 'name': 'fake', 'categories': ['biolink:Drug']}\n",
      "{'id': 'DrugBank:DB00843', 'name': 'fake', 'categories': ['biolink:Drug']}\n",
      "{'id': 'OMIM:104300', 'name': 'fake', 'categories': ['biolink:Disease']}\n",
      "{'id': 'DrugBank:DB00909', 'name': 'fake', 'categories': ['biolink:Drug']}\n",
      "{'id': 'OMIM:608105', 'name': 'fake', 'categories': ['biolink:Disease']}\n",
      "{'id': 'DrugBank:DB00989', 'name': 'fake', 'categories': ['biolink:Drug']}\n",
      "{'id': 'DrugBank:DB01043', 'name': 'fake', 'categories': ['biolink:Drug']}\n",
      "{'id': 'DrugBank:DB00996', 'name': 'fake', 'categories': ['biolink:Drug']}\n"
     ]
    }
   ],
   "source": [
    "\n",
    "graph_json['nodes'] = list()\n",
    "for node in G.nodes():\n",
    "    #print (node)\n",
    "    print(G.node[node])\n",
    "    graph_json['nodes'].append(G.node[node])\n"
   ]
  },
  {
   "cell_type": "code",
   "execution_count": 43,
   "metadata": {},
   "outputs": [],
   "source": [
    "\n",
    "graph_json['edges']=list()\n",
    "for edge in G.edges():\n",
    "    #print (edge)\n",
    "    #print(G[edge[0]][edge[1]], type(G[edge[0]][edge[1]]))\n",
    "    graph_json['edges'].append(G[edge[0]][edge[1]])\n"
   ]
  },
  {
   "cell_type": "code",
   "execution_count": 44,
   "metadata": {},
   "outputs": [
    {
     "data": {
      "text/plain": [
       "{'nodes': [{'id': 'DrugBank:DB00915',\n",
       "   'name': 'fake',\n",
       "   'categories': ['biolink:Drug']},\n",
       "  {'id': 'DrugBank:DB00843', 'name': 'fake', 'categories': ['biolink:Drug']},\n",
       "  {'id': 'OMIM:104300', 'name': 'fake', 'categories': ['biolink:Disease']},\n",
       "  {'id': 'DrugBank:DB00909', 'name': 'fake', 'categories': ['biolink:Drug']},\n",
       "  {'id': 'OMIM:608105', 'name': 'fake', 'categories': ['biolink:Disease']},\n",
       "  {'id': 'DrugBank:DB00989', 'name': 'fake', 'categories': ['biolink:Drug']},\n",
       "  {'id': 'DrugBank:DB01043', 'name': 'fake', 'categories': ['biolink:Drug']},\n",
       "  {'id': 'DrugBank:DB00996', 'name': 'fake', 'categories': ['biolink:Drug']}],\n",
       " 'edges': [{'id': 'DrugBank:DB00843_DrugBank: DB00915',\n",
       "   'predicate': 'biolink:similar_to',\n",
       "   'subject': 'DrugBank:DB00843',\n",
       "   'object': 'DrugBank:DB00915',\n",
       "   'weight': 0.1941457986831665,\n",
       "   'attributes': {'description': 'score',\n",
       "    'attribute_type_id': 'EDAM:data_1772',\n",
       "    'value': 0.1941457986831665}},\n",
       "  {'id': 'DrugBank:DB00909_DrugBank: DB00915',\n",
       "   'predicate': 'biolink:similar_to',\n",
       "   'subject': 'DrugBank:DB00909',\n",
       "   'object': 'DrugBank:DB00915',\n",
       "   'weight': 0.1463073492050171,\n",
       "   'attributes': {'description': 'score',\n",
       "    'attribute_type_id': 'EDAM:data_1772',\n",
       "    'value': 0.1463073492050171}},\n",
       "  {'id': 'DrugBank:DB00989_DrugBank: DB00915',\n",
       "   'predicate': 'biolink:similar_to',\n",
       "   'subject': 'DrugBank:DB00989',\n",
       "   'object': 'DrugBank:DB00915',\n",
       "   'weight': 0.21052932739257812,\n",
       "   'attributes': {'description': 'score',\n",
       "    'attribute_type_id': 'EDAM:data_1772',\n",
       "    'value': 0.21052932739257812}},\n",
       "  {'id': 'DrugBank:DB01043_DrugBank: DB00915',\n",
       "   'predicate': 'biolink:similar_to',\n",
       "   'subject': 'DrugBank:DB01043',\n",
       "   'object': 'DrugBank:DB00915',\n",
       "   'weight': 0.21715253591537476,\n",
       "   'attributes': {'description': 'score',\n",
       "    'attribute_type_id': 'EDAM:data_1772',\n",
       "    'value': 0.21715253591537476}},\n",
       "  {'id': 'DrugBank:DB00996_DrugBank: DB00915',\n",
       "   'predicate': 'biolink:similar_to',\n",
       "   'subject': 'DrugBank:DB00996',\n",
       "   'object': 'DrugBank:DB00915',\n",
       "   'weight': 0.17593353986740112,\n",
       "   'attributes': {'description': 'score',\n",
       "    'attribute_type_id': 'EDAM:data_1772',\n",
       "    'value': 0.17593353986740112}},\n",
       "  {'id': 'DrugBank:DB00843_OMIM:104300',\n",
       "   'predicate': 'biolink:treats',\n",
       "   'subject': 'DrugBank:DB00843',\n",
       "   'object': 'OMIM:104300',\n",
       "   'weight': 1,\n",
       "   'attributes': {'description': 'score',\n",
       "    'attribute_type_id': 'EDAM:data_1772',\n",
       "    'value': '1.0'}},\n",
       "  {'id': 'OMIM:608105_OMIM:104300',\n",
       "   'predicate': 'biolink:similar_to',\n",
       "   'subject': 'OMIM:608105',\n",
       "   'object': 'OMIM:104300',\n",
       "   'weight': 0.04810619354248047,\n",
       "   'attributes': {'description': 'score',\n",
       "    'attribute_type_id': 'EDAM:data_1772',\n",
       "    'value': 0.04810619354248047}},\n",
       "  {'id': 'DrugBank:DB00989_OMIM:104300',\n",
       "   'predicate': 'biolink:treats',\n",
       "   'subject': 'DrugBank:DB00989',\n",
       "   'object': 'OMIM:104300',\n",
       "   'weight': 1,\n",
       "   'attributes': {'description': 'score',\n",
       "    'attribute_type_id': 'EDAM:data_1772',\n",
       "    'value': '1.0'}},\n",
       "  {'id': 'DrugBank:DB01043_OMIM:104300',\n",
       "   'predicate': 'biolink:treats',\n",
       "   'subject': 'DrugBank:DB01043',\n",
       "   'object': 'OMIM:104300',\n",
       "   'weight': 1,\n",
       "   'attributes': {'description': 'score',\n",
       "    'attribute_type_id': 'EDAM:data_1772',\n",
       "    'value': '1.0'}},\n",
       "  {'id': 'DrugBank:DB00909_OMIM:608105',\n",
       "   'predicate': 'biolink:treats',\n",
       "   'subject': 'DrugBank:DB00909',\n",
       "   'object': 'OMIM:608105',\n",
       "   'weight': 1,\n",
       "   'attributes': {'description': 'score',\n",
       "    'attribute_type_id': 'EDAM:data_1772',\n",
       "    'value': '1.0'}},\n",
       "  {'id': 'DrugBank:DB00996_OMIM:608105',\n",
       "   'predicate': 'biolink:treats',\n",
       "   'subject': 'DrugBank:DB00996',\n",
       "   'object': 'OMIM:608105',\n",
       "   'weight': 1,\n",
       "   'attributes': {'description': 'score',\n",
       "    'attribute_type_id': 'EDAM:data_1772',\n",
       "    'value': '1.0'}}]}"
      ]
     },
     "execution_count": 44,
     "metadata": {},
     "output_type": "execute_result"
    }
   ],
   "source": [
    "graph_json"
   ]
  },
  {
   "cell_type": "code",
   "execution_count": 45,
   "metadata": {},
   "outputs": [
    {
     "data": {
      "image/png": "[encoded data removed]",
      "text/plain": [
       "<Figure size 432x288 with 1 Axes>"
      ]
     },
     "metadata": {},
     "output_type": "display_data"
    }
   ],
   "source": [
    "import matplotlib.pyplot as plt\n",
    "#G = nx.dodecahedral_graph()\n",
    "#nx.draw(G)  # networkx draw()\n",
    "#plt.draw()  # pyplot draw()\n",
    "plt.show()\n",
    "\n",
    "options = {\n",
    "    \"font_size\": 20,\n",
    "    \"node_size\": 3000,\n",
    "    \"node_color\": \"white\",\n",
    "    \"edgecolors\": \"black\",\n",
    "    \"linewidths\": 5,\n",
    "    \"width\": 15,\n",
    "}\n",
    "#nx.draw(G, pos=nx.multipartite_layout(G), with_labels=True)\n",
    "nx.draw(G, with_labels=True)\n",
    "plt.draw()"
   ]
  },
  {
   "cell_type": "code",
   "execution_count": null,
   "metadata": {},
   "outputs": [],
   "source": []
  }
 ],
 "metadata": {
  "kernelspec": {
   "display_name": "Python 3",
   "language": "python",
   "name": "python3"
  },
  "language_info": {
   "codemirror_mode": {
    "name": "ipython",
    "version": 3
   },
   "file_extension": ".py",
   "mimetype": "text/x-python",
   "name": "python",
   "nbconvert_exporter": "python",
   "pygments_lexer": "ipython3",
   "version": "3.11.0 (main, Oct 24 2022, 00:00:00) [GCC 12.2.1 20220819 (Red Hat 12.2.1-2)]"
  },
  "orig_nbformat": 4,
  "vscode": {
   "interpreter": {
    "hash": "e7370f93d1d0cde622a1f8e1c04877d8463912d04d973331ad4851f04de6915a"
   }
  }
 },
 "nbformat": 4,
 "nbformat_minor": 2
}
