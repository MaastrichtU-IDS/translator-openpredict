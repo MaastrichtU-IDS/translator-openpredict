{
 "cells": [
  {
   "cell_type": "code",
   "execution_count": 1,
   "metadata": {},
   "outputs": [],
   "source": [
    "import pandas as pd\n",
    "\n",
    "\n",
    "DISPLAY_ALL_TEXT = False\n",
    "data_folder = \"../../../data\"\n",
    "\n",
    "pd.set_option(\"display.max_colwidth\", 0 if DISPLAY_ALL_TEXT else 50) "
   ]
  },
  {
   "cell_type": "code",
   "execution_count": null,
   "metadata": {},
   "outputs": [],
   "source": [
    "from rdflib"
   ]
  },
  {
   "cell_type": "code",
   "execution_count": 11,
   "metadata": {},
   "outputs": [],
   "source": [
    "df_op = pd.read_csv(f'{data_folder}/input/openpredict-omim-drug.csv')"
   ]
  },
  {
   "cell_type": "code",
   "execution_count": 12,
   "metadata": {},
   "outputs": [
    {
     "data": {
      "text/html": [
       "<div>\n",
       "<style scoped>\n",
       "    .dataframe tbody tr th:only-of-type {\n",
       "        vertical-align: middle;\n",
       "    }\n",
       "\n",
       "    .dataframe tbody tr th {\n",
       "        vertical-align: top;\n",
       "    }\n",
       "\n",
       "    .dataframe thead th {\n",
       "        text-align: right;\n",
       "    }\n",
       "</style>\n",
       "<table border=\"1\" class=\"dataframe\">\n",
       "  <thead>\n",
       "    <tr style=\"text-align: right;\">\n",
       "      <th></th>\n",
       "      <th>drugid</th>\n",
       "      <th>omimid</th>\n",
       "    </tr>\n",
       "  </thead>\n",
       "  <tbody>\n",
       "    <tr>\n",
       "      <th>0</th>\n",
       "      <td>DB01148</td>\n",
       "      <td>231200</td>\n",
       "    </tr>\n",
       "    <tr>\n",
       "      <th>1</th>\n",
       "      <td>DB01148</td>\n",
       "      <td>155100</td>\n",
       "    </tr>\n",
       "    <tr>\n",
       "      <th>2</th>\n",
       "      <td>DB01148</td>\n",
       "      <td>273800</td>\n",
       "    </tr>\n",
       "    <tr>\n",
       "      <th>3</th>\n",
       "      <td>DB00575</td>\n",
       "      <td>607554</td>\n",
       "    </tr>\n",
       "    <tr>\n",
       "      <th>4</th>\n",
       "      <td>DB00575</td>\n",
       "      <td>171300</td>\n",
       "    </tr>\n",
       "  </tbody>\n",
       "</table>\n",
       "</div>"
      ],
      "text/plain": [
       "    drugid  omimid\n",
       "0  DB01148  231200\n",
       "1  DB01148  155100\n",
       "2  DB01148  273800\n",
       "3  DB00575  607554\n",
       "4  DB00575  171300"
      ]
     },
     "execution_count": 12,
     "metadata": {},
     "output_type": "execute_result"
    }
   ],
   "source": [
    "df_op.head()"
   ]
  },
  {
   "cell_type": "code",
   "execution_count": 13,
   "metadata": {},
   "outputs": [],
   "source": [
    "df_op = df_op.rename(columns={'omimid':'disease_id','drugid':'drug_id'})"
   ]
  },
  {
   "cell_type": "code",
   "execution_count": 14,
   "metadata": {},
   "outputs": [],
   "source": [
    "df_op.disease_id= df_op.disease_id.astype(str)"
   ]
  },
  {
   "cell_type": "code",
   "execution_count": 6,
   "metadata": {},
   "outputs": [],
   "source": [
    "#df_op.drug_id= 'https://identifiers.org/drugbank:'+df_op.drug_id"
   ]
  },
  {
   "cell_type": "code",
   "execution_count": 7,
   "metadata": {},
   "outputs": [],
   "source": [
    "#df_op.disease_id= 'https://identifiers.org/omim:'+df_op.disease_id"
   ]
  },
  {
   "cell_type": "code",
   "execution_count": 45,
   "metadata": {},
   "outputs": [
    {
     "data": {
      "text/html": [
       "<div>\n",
       "<style scoped>\n",
       "    .dataframe tbody tr th:only-of-type {\n",
       "        vertical-align: middle;\n",
       "    }\n",
       "\n",
       "    .dataframe tbody tr th {\n",
       "        vertical-align: top;\n",
       "    }\n",
       "\n",
       "    .dataframe thead th {\n",
       "        text-align: right;\n",
       "    }\n",
       "</style>\n",
       "<table border=\"1\" class=\"dataframe\">\n",
       "  <thead>\n",
       "    <tr style=\"text-align: right;\">\n",
       "      <th></th>\n",
       "      <th>drug_id</th>\n",
       "      <th>disease_id</th>\n",
       "    </tr>\n",
       "  </thead>\n",
       "  <tbody>\n",
       "    <tr>\n",
       "      <th>0</th>\n",
       "      <td>DB01148</td>\n",
       "      <td>231200</td>\n",
       "    </tr>\n",
       "    <tr>\n",
       "      <th>1</th>\n",
       "      <td>DB01148</td>\n",
       "      <td>155100</td>\n",
       "    </tr>\n",
       "    <tr>\n",
       "      <th>2</th>\n",
       "      <td>DB01148</td>\n",
       "      <td>273800</td>\n",
       "    </tr>\n",
       "    <tr>\n",
       "      <th>3</th>\n",
       "      <td>DB00575</td>\n",
       "      <td>607554</td>\n",
       "    </tr>\n",
       "    <tr>\n",
       "      <th>4</th>\n",
       "      <td>DB00575</td>\n",
       "      <td>171300</td>\n",
       "    </tr>\n",
       "    <tr>\n",
       "      <th>5</th>\n",
       "      <td>DB00575</td>\n",
       "      <td>102300</td>\n",
       "    </tr>\n",
       "    <tr>\n",
       "      <th>6</th>\n",
       "      <td>DB00575</td>\n",
       "      <td>137580</td>\n",
       "    </tr>\n",
       "    <tr>\n",
       "      <th>7</th>\n",
       "      <td>DB00575</td>\n",
       "      <td>147530</td>\n",
       "    </tr>\n",
       "    <tr>\n",
       "      <th>8</th>\n",
       "      <td>DB00575</td>\n",
       "      <td>601042</td>\n",
       "    </tr>\n",
       "    <tr>\n",
       "      <th>9</th>\n",
       "      <td>DB00575</td>\n",
       "      <td>608622</td>\n",
       "    </tr>\n",
       "    <tr>\n",
       "      <th>10</th>\n",
       "      <td>DB00575</td>\n",
       "      <td>161900</td>\n",
       "    </tr>\n",
       "    <tr>\n",
       "      <th>11</th>\n",
       "      <td>DB00575</td>\n",
       "      <td>143465</td>\n",
       "    </tr>\n",
       "    <tr>\n",
       "      <th>12</th>\n",
       "      <td>DB00575</td>\n",
       "      <td>144110</td>\n",
       "    </tr>\n",
       "    <tr>\n",
       "      <th>13</th>\n",
       "      <td>DB00160</td>\n",
       "      <td>261515</td>\n",
       "    </tr>\n",
       "    <tr>\n",
       "      <th>14</th>\n",
       "      <td>DB00570</td>\n",
       "      <td>276300</td>\n",
       "    </tr>\n",
       "    <tr>\n",
       "      <th>15</th>\n",
       "      <td>DB00570</td>\n",
       "      <td>188030</td>\n",
       "    </tr>\n",
       "    <tr>\n",
       "      <th>16</th>\n",
       "      <td>DB00570</td>\n",
       "      <td>148000</td>\n",
       "    </tr>\n",
       "    <tr>\n",
       "      <th>17</th>\n",
       "      <td>DB00570</td>\n",
       "      <td>273300</td>\n",
       "    </tr>\n",
       "    <tr>\n",
       "      <th>18</th>\n",
       "      <td>DB00570</td>\n",
       "      <td>236000</td>\n",
       "    </tr>\n",
       "    <tr>\n",
       "      <th>19</th>\n",
       "      <td>DB00570</td>\n",
       "      <td>254400</td>\n",
       "    </tr>\n",
       "  </tbody>\n",
       "</table>\n",
       "</div>"
      ],
      "text/plain": [
       "    drug_id disease_id\n",
       "0   DB01148     231200\n",
       "1   DB01148     155100\n",
       "2   DB01148     273800\n",
       "3   DB00575     607554\n",
       "4   DB00575     171300\n",
       "5   DB00575     102300\n",
       "6   DB00575     137580\n",
       "7   DB00575     147530\n",
       "8   DB00575     601042\n",
       "9   DB00575     608622\n",
       "10  DB00575     161900\n",
       "11  DB00575     143465\n",
       "12  DB00575     144110\n",
       "13  DB00160     261515\n",
       "14  DB00570     276300\n",
       "15  DB00570     188030\n",
       "16  DB00570     148000\n",
       "17  DB00570     273300\n",
       "18  DB00570     236000\n",
       "19  DB00570     254400"
      ]
     },
     "execution_count": 45,
     "metadata": {},
     "output_type": "execute_result"
    }
   ],
   "source": [
    "df_op.head(20)"
   ]
  },
  {
   "cell_type": "code",
   "execution_count": 30,
   "metadata": {},
   "outputs": [
    {
     "data": {
      "text/plain": [
       "1933"
      ]
     },
     "execution_count": 30,
     "metadata": {},
     "output_type": "execute_result"
    }
   ],
   "source": [
    "indications_dict =set()\n",
    "for i, row in df_op.iterrows():\n",
    "    #row['DB_ID'], row['DO_ID']\n",
    "    pair = (str(row['drug_id']),str(row['disease_id']))\n",
    "    indications_dict.add(pair)\n",
    "len(indications_dict)"
   ]
  },
  {
   "cell_type": "markdown",
   "metadata": {},
   "source": [
    "### Embedding"
   ]
  },
  {
   "cell_type": "markdown",
   "metadata": {},
   "source": [
    "### Drug features"
   ]
  },
  {
   "cell_type": "code",
   "execution_count": 16,
   "metadata": {},
   "outputs": [],
   "source": [
    "drug_fp_df =pd.read_csv(f'{data_folder}/baseline_features/drugs-fingerprint-sim.csv')"
   ]
  },
  {
   "cell_type": "code",
   "execution_count": 17,
   "metadata": {},
   "outputs": [],
   "source": [
    "drug_fp_df= drug_fp_df.pivot(index='Drug1', columns='Drug2', values=['TC'])"
   ]
  },
  {
   "cell_type": "code",
   "execution_count": 18,
   "metadata": {},
   "outputs": [],
   "source": [
    "drug_fp_df= drug_fp_df.fillna(0.0)"
   ]
  },
  {
   "cell_type": "markdown",
   "metadata": {},
   "source": [
    "### Disease features"
   ]
  },
  {
   "cell_type": "code",
   "execution_count": 58,
   "metadata": {},
   "outputs": [],
   "source": [
    "disease_hp_df =pd.read_csv(f'{data_folder}/baseline_features/diseases-hpo-sim.csv')"
   ]
  },
  {
   "cell_type": "code",
   "execution_count": 59,
   "metadata": {},
   "outputs": [
    {
     "data": {
      "text/html": [
       "<div>\n",
       "<style scoped>\n",
       "    .dataframe tbody tr th:only-of-type {\n",
       "        vertical-align: middle;\n",
       "    }\n",
       "\n",
       "    .dataframe tbody tr th {\n",
       "        vertical-align: top;\n",
       "    }\n",
       "\n",
       "    .dataframe thead th {\n",
       "        text-align: right;\n",
       "    }\n",
       "</style>\n",
       "<table border=\"1\" class=\"dataframe\">\n",
       "  <thead>\n",
       "    <tr style=\"text-align: right;\">\n",
       "      <th></th>\n",
       "      <th>Disease1</th>\n",
       "      <th>Disease2</th>\n",
       "      <th>HPO-SIM</th>\n",
       "    </tr>\n",
       "  </thead>\n",
       "  <tbody>\n",
       "    <tr>\n",
       "      <th>0</th>\n",
       "      <td>157950</td>\n",
       "      <td>606798</td>\n",
       "      <td>0.373642</td>\n",
       "    </tr>\n",
       "    <tr>\n",
       "      <th>1</th>\n",
       "      <td>157950</td>\n",
       "      <td>115300</td>\n",
       "      <td>0.344222</td>\n",
       "    </tr>\n",
       "    <tr>\n",
       "      <th>2</th>\n",
       "      <td>157950</td>\n",
       "      <td>270960</td>\n",
       "      <td>0.355539</td>\n",
       "    </tr>\n",
       "    <tr>\n",
       "      <th>3</th>\n",
       "      <td>157950</td>\n",
       "      <td>606842</td>\n",
       "      <td>0.322567</td>\n",
       "    </tr>\n",
       "    <tr>\n",
       "      <th>4</th>\n",
       "      <td>157950</td>\n",
       "      <td>246400</td>\n",
       "      <td>0.343388</td>\n",
       "    </tr>\n",
       "  </tbody>\n",
       "</table>\n",
       "</div>"
      ],
      "text/plain": [
       "   Disease1  Disease2   HPO-SIM\n",
       "0    157950    606798  0.373642\n",
       "1    157950    115300  0.344222\n",
       "2    157950    270960  0.355539\n",
       "3    157950    606842  0.322567\n",
       "4    157950    246400  0.343388"
      ]
     },
     "execution_count": 59,
     "metadata": {},
     "output_type": "execute_result"
    }
   ],
   "source": [
    "disease_hp_df.head()"
   ]
  },
  {
   "cell_type": "code",
   "execution_count": 60,
   "metadata": {},
   "outputs": [],
   "source": [
    "disease_hp_df= disease_hp_df.pivot(index='Disease1', columns='Disease2', values=['HPO-SIM'])"
   ]
  },
  {
   "cell_type": "code",
   "execution_count": 61,
   "metadata": {},
   "outputs": [],
   "source": [
    "disease_hp_df= disease_hp_df.fillna(0.0)"
   ]
  },
  {
   "cell_type": "code",
   "execution_count": 62,
   "metadata": {},
   "outputs": [],
   "source": [
    "### Convert similarity matrix to embeddings (gensim word2vec format)"
   ]
  },
  {
   "cell_type": "code",
   "execution_count": 21,
   "metadata": {},
   "outputs": [],
   "source": [
    "def sim_mat2emb_file(sm_df, file_path):\n",
    "    with open(file_path, 'a') as file:\n",
    "        file.write(str(sm_df.shape[0])+' '+str(sm_df.shape[1])+'\\n')\n",
    "        sm_df.to_csv(file, sep=' ', header=False)"
   ]
  },
  {
   "cell_type": "code",
   "execution_count": 22,
   "metadata": {},
   "outputs": [],
   "source": [
    "sim_mat2emb_file(drug_fp_df,f'{data_folder}/embedding/drugs_fp_embed.txt')"
   ]
  },
  {
   "cell_type": "code",
   "execution_count": 63,
   "metadata": {},
   "outputs": [],
   "source": [
    "sim_mat2emb_file(disease_hp_df,f'{data_folder}/embedding/disease_hp_embed.txt')"
   ]
  },
  {
   "cell_type": "code",
   "execution_count": 23,
   "metadata": {},
   "outputs": [],
   "source": [
    "from gensim.models import KeyedVectors"
   ]
  },
  {
   "cell_type": "code",
   "execution_count": 24,
   "metadata": {},
   "outputs": [],
   "source": [
    "drug_fp_vectors = KeyedVectors.load_word2vec_format(f'{data_folder}/embedding/drugs_fp_embed.txt', binary=False)\n"
   ]
  },
  {
   "cell_type": "code",
   "execution_count": 25,
   "metadata": {},
   "outputs": [
    {
     "data": {
      "text/plain": [
       "[('DB00586', 0.9244383573532104),\n",
       " ('DB00642', 0.9216973781585693),\n",
       " ('DB00622', 0.915402889251709),\n",
       " ('DB00631', 0.9129185676574707),\n",
       " ('DB00640', 0.9127779603004456)]"
      ]
     },
     "execution_count": 25,
     "metadata": {},
     "output_type": "execute_result"
    }
   ],
   "source": [
    "drug_fp_vectors.most_similar('DB00627', topn=5)"
   ]
  },
  {
   "cell_type": "code",
   "execution_count": 64,
   "metadata": {},
   "outputs": [],
   "source": [
    "disease_hp_vectors = KeyedVectors.load_word2vec_format(f'{data_folder}/embedding/disease_hp_embed.txt', binary=False)\n"
   ]
  },
  {
   "cell_type": "code",
   "execution_count": 66,
   "metadata": {},
   "outputs": [
    {
     "data": {
      "text/plain": [
       "[('182830', 0.9539228081703186),\n",
       " ('604827', 0.9504092335700989),\n",
       " ('160300', 0.9473865032196045),\n",
       " ('606842', 0.9470750093460083),\n",
       " ('137800', 0.9442803859710693)]"
      ]
     },
     "execution_count": 66,
     "metadata": {},
     "output_type": "execute_result"
    }
   ],
   "source": [
    "disease_hp_vectors.most_similar('606798',topn=5)"
   ]
  },
  {
   "cell_type": "markdown",
   "metadata": {},
   "source": [
    "### API to retrieve evidence graph for query drug-disease pair"
   ]
  },
  {
   "cell_type": "code",
   "execution_count": 27,
   "metadata": {},
   "outputs": [],
   "source": [
    "from rdflib import Namespace\n",
    "from rdflib import Graph, URIRef, Literal, RDF, ConjunctiveGraph"
   ]
  },
  {
   "cell_type": "code",
   "execution_count": 47,
   "metadata": {},
   "outputs": [],
   "source": [
    "OMIM = Namespace(\"https://identifiers.org/omim:\")\n",
    "DRUGB = Namespace(\"https://identifiers.org/drugbank:\")\n",
    "BIOLINK = Namespace(\"https://w3id.org/biolink/vocab/\")\n"
   ]
  },
  {
   "cell_type": "code",
   "execution_count": 55,
   "metadata": {},
   "outputs": [],
   "source": [
    "# openpredict:most_similar('DB00570', 10)\n",
    "def get_evidence_path_for_pairs(drug, disease, emb_vectors):\n",
    "    g= Graph()\n",
    "    for (dr, ds) in indications_dict:\n",
    "        if ds == disease and dr in emb_vectors:\n",
    "            similarDrugs = emb_vectors.most_similar(dr,topn=10)\n",
    "            #print (similarDrugs)\n",
    "            for en,sim in similarDrugs:\n",
    "                if en == drug:\n",
    "                    print (dr,' ',drug)\n",
    "                    g.add((DRUGB[dr],BIOLINK['treats'],OMIM[ds]))\n",
    "                    g.add((DRUGB[dr], BIOLINK['similar_to'],DRUGB[drug]))\n",
    "        if dr == drug and ds in emb_vectors:\n",
    "            similarDiseases = word_vectors.most_similar(ds,topn=10)\n",
    "            for en,sim in similarDiseases:\n",
    "                if en == disease:\n",
    "                    print (ds,' ',disease)\n",
    "                    g.add((DRUGB[dr],BIOLINK['treats'],OMIM[ds]))\n",
    "                    g.add((OMIM[ds], BIOLINK['similar_to'], OMIM[disease]))\n",
    "    return g"
   ]
  },
  {
   "cell_type": "code",
   "execution_count": 68,
   "metadata": {},
   "outputs": [
    {
     "name": "stdout",
     "output_type": "stream",
     "text": [
      "DB00563   DB00570\n",
      "DB00541   DB00570\n"
     ]
    }
   ],
   "source": [
    "g1 = get_evidence_path_for_pairs('DB00570','236000', drug_fp_vectors)"
   ]
  },
  {
   "cell_type": "code",
   "execution_count": 69,
   "metadata": {},
   "outputs": [],
   "source": [
    "g2 = get_evidence_path_for_pairs('DB00570','236000', disease_hp_df)"
   ]
  },
  {
   "cell_type": "code",
   "execution_count": 70,
   "metadata": {},
   "outputs": [
    {
     "name": "stdout",
     "output_type": "stream",
     "text": [
      "https://identifiers.org/drugbank:DB00541 https://w3id.org/biolink/vocab/similar_to https://identifiers.org/drugbank:DB00570\n",
      "https://identifiers.org/drugbank:DB00541 https://w3id.org/biolink/vocab/treats https://identifiers.org/omim:236000\n",
      "https://identifiers.org/drugbank:DB00563 https://w3id.org/biolink/vocab/similar_to https://identifiers.org/drugbank:DB00570\n",
      "https://identifiers.org/drugbank:DB00563 https://w3id.org/biolink/vocab/treats https://identifiers.org/omim:236000\n"
     ]
    }
   ],
   "source": [
    "for (s,p,o) in g1:\n",
    "    print (s,p,o)"
   ]
  },
  {
   "cell_type": "code",
   "execution_count": 71,
   "metadata": {},
   "outputs": [],
   "source": [
    "for (s,p,o) in g2:\n",
    "    print (s,p,o)"
   ]
  }
 ],
 "metadata": {
  "kernelspec": {
   "display_name": "Python 3.11.0 64-bit",
   "language": "python",
   "name": "python3"
  },
  "language_info": {
   "codemirror_mode": {
    "name": "ipython",
    "version": 3
   },
   "file_extension": ".py",
   "mimetype": "text/x-python",
   "name": "python",
   "nbconvert_exporter": "python",
   "pygments_lexer": "ipython3",
   "version": "3.11.0"
  },
  "vscode": {
   "interpreter": {
    "hash": "e7370f93d1d0cde622a1f8e1c04877d8463912d04d973331ad4851f04de6915a"
   }
  }
 },
 "nbformat": 4,
 "nbformat_minor": 4
}
