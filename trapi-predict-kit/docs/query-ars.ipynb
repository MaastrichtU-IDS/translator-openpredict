{
 "cells": [
  {
   "cell_type": "markdown",
   "metadata": {},
   "source": [
    "# Query the Translator ARS\n",
    "\n",
    "Just change the query provided and run it\n",
    "\n",
    "More details on how to view the results of the query at https://github.com/NCATSTranslator/Translator-All/wiki/Autonomous-Relay-System-(ARS)#interface "
   ]
  },
  {
   "cell_type": "code",
   "execution_count": 3,
   "metadata": {
    "tags": []
   },
   "outputs": [
    {
     "name": "stdout",
     "output_type": "stream",
     "text": [
      "{\n",
      "  \"model\": \"tr_ars.message\",\n",
      "  \"pk\": \"1cfb207f-0c6a-422f-91bc-e1e998ddaeec\",\n",
      "  \"fields\": {\n",
      "    \"name\": \"\",\n",
      "    \"code\": 200,\n",
      "    \"status\": \"Running\",\n",
      "    \"actor\": 9,\n",
      "    \"timestamp\": \"2021-06-22T17:10:31.657Z\",\n",
      "    \"data\": {\n",
      "      \"edges\": {\n",
      "        \"e0\": {\n",
      "          \"object\": \"n1\",\n",
      "          \"subject\": \"n0\"\n",
      "        }\n",
      "      },\n",
      "      \"nodes\": {\n",
      "        \"n0\": {\n",
      "          \"categories\": [\n",
      "            \"biolink:ChemicalSubstance\"\n",
      "          ],\n",
      "          \"ids\": [\n",
      "            \"PUBCHEM.COMPOUND:2662\"\n",
      "          ],\n",
      "          \"is_set\": false\n",
      "        },\n",
      "        \"n1\": {\n",
      "          \"categories\": [\n",
      "            \"biolink:Gene\"\n",
      "          ],\n",
      "          \"ids\": [\n",
      "            \"HGNC:9604\"\n",
      "          ],\n",
      "          \"is_set\": false\n",
      "        }\n",
      "      }\n",
      "    },\n",
      "    \"url\": null,\n",
      "    \"ref\": null\n",
      "  }\n",
      "}\n"
     ]
    }
   ],
   "source": [
    "import requests\n",
    "import json\n",
    "\n",
    "query = {\n",
    "    \"message\": {\n",
    "        \"query_graph\": {\n",
    "            \"nodes\": {\n",
    "                \"n0\": {\n",
    "                    \"categories\": [\"biolink:Gene\"]\n",
    "                },\n",
    "                \"n1\": {\n",
    "                    \"ids\": [\"CHEBI:45783\"],\n",
    "                    \"categories\": [\"biolink:ChemicalSubstance\"]\n",
    "                },\n",
    "                \"n2\": {\n",
    "                    \"ids\": [\"MONDO:0005301\"],\n",
    "                    \"categories\": [\"biolink:Disease\"]\n",
    "                },\n",
    "                \"n3\": {\n",
    "                    \"categories\": [\"biolink:ChemicalSubstance\"]\n",
    "                }\n",
    "            },\n",
    "            \"edges\": {\n",
    "                \"e01\": {\n",
    "                    \"subject\": \"n0\",\n",
    "                    \"object\": \"n1\",\n",
    "                    \"predicates\": [\"biolink:related_to\"]\n",
    "                },\n",
    "                \"e02\": {\n",
    "                    \"subject\": \"n0\",\n",
    "                    \"object\": \"n2\",\n",
    "                    \"predicates\": [\"biolink:related_to\"]\n",
    "                },\n",
    "                \"e03\": {\n",
    "                    \"subject\": \"n0\",\n",
    "                    \"object\": \"n3\",\n",
    "                    \"predicates\": [\"biolink:related_to\"]\n",
    "                }\n",
    "            }\n",
    "        }\n",
    "    }\n",
    "}\n",
    "\n",
    "data = json.dumps(query)\n",
    "headers = {'Content-type': 'application/json'}\n",
    "ars_response = requests.post(\n",
    "    'https://ars.transltr.io/ars/api/submit',\n",
    "    data=data, headers=headers\n",
    ")\n",
    "print(json.dumps( ars_response.json(), indent = 2))"
   ]
  },
  {
   "cell_type": "code",
   "execution_count": null,
   "metadata": {},
   "outputs": [],
   "source": []
  }
 ],
 "metadata": {
  "interpreter": {
   "hash": "916dbcbb3f70747c44a77c7bcd40155683ae19c65e1c03b4aa3499c5328201f1"
  },
  "kernelspec": {
   "display_name": "Python 3.8.5 64-bit",
   "name": "python3"
  },
  "language_info": {
   "codemirror_mode": {
    "name": "ipython",
    "version": 3
   },
   "file_extension": ".py",
   "mimetype": "text/x-python",
   "name": "python",
   "nbconvert_exporter": "python",
   "pygments_lexer": "ipython3",
   "version": "3.8.5"
  }
 },
 "nbformat": 4,
 "nbformat_minor": 4
}
